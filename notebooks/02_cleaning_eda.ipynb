{
 "cells": [
  {
   "cell_type": "markdown",
   "id": "52a0b29e-f7f0-44ce-9bf6-7e7d928538c2",
   "metadata": {},
   "source": [
    "# Phase 2 – Data Cleaning & Exploratory Data Analysis (EDA)\n",
    "\n",
    "In this phase, we will:\n",
    "1. Load raw dataset  \n",
    "2. Handle missing values  \n",
    "3. Clean column names  \n",
    "4. Convert target (`Churn`) to numeric  \n",
    "5. Save cleaned dataset  \n",
    "6. Do initial EDA (churn rate, missing values, distributions)  \n"
   ]
  },
  {
   "cell_type": "code",
   "execution_count": 12,
   "id": "c68301c6-28a1-4dd6-9415-506b74aac53f",
   "metadata": {},
   "outputs": [],
   "source": [
    "#  Import libraries\n",
    "import pandas as pd\n",
    "import matplotlib.pyplot as plt\n",
    "import seaborn as sns\n",
    "import os\n",
    "\n",
    "# Paths\n",
    "RAW_PATH = \"data/raw/Telco-Customer-Churn.csv\"\n",
    "CLEAN_PATH = \"../data/cleaned/Telco-Customer-Churn.csv\"\n",
    "ANALYSIS_PATH = \"../data/analysis\"\n",
    "\n",
    "os.makedirs(\"../data/cleaned\", exist_ok=True)\n",
    "os.makedirs(ANALYSIS_PATH, exist_ok=True)\n"
   ]
  },
  {
   "cell_type": "markdown",
   "id": "693c3ab2-5775-47c0-b5a7-d1a9cf4da25a",
   "metadata": {},
   "source": [
    "## Step 1 – Load Raw Data\n"
   ]
  },
  {
   "cell_type": "code",
   "execution_count": 15,
   "id": "d20ad99f-af88-465b-a8b0-48c3b7af8519",
   "metadata": {},
   "outputs": [
    {
     "name": "stdout",
     "output_type": "stream",
     "text": [
      "Shape: (7043, 21)\n"
     ]
    },
    {
     "data": {
      "text/html": [
       "<div>\n",
       "<style scoped>\n",
       "    .dataframe tbody tr th:only-of-type {\n",
       "        vertical-align: middle;\n",
       "    }\n",
       "\n",
       "    .dataframe tbody tr th {\n",
       "        vertical-align: top;\n",
       "    }\n",
       "\n",
       "    .dataframe thead th {\n",
       "        text-align: right;\n",
       "    }\n",
       "</style>\n",
       "<table border=\"1\" class=\"dataframe\">\n",
       "  <thead>\n",
       "    <tr style=\"text-align: right;\">\n",
       "      <th></th>\n",
       "      <th>customerID</th>\n",
       "      <th>gender</th>\n",
       "      <th>SeniorCitizen</th>\n",
       "      <th>Partner</th>\n",
       "      <th>Dependents</th>\n",
       "      <th>tenure</th>\n",
       "      <th>PhoneService</th>\n",
       "      <th>MultipleLines</th>\n",
       "      <th>InternetService</th>\n",
       "      <th>OnlineSecurity</th>\n",
       "      <th>...</th>\n",
       "      <th>DeviceProtection</th>\n",
       "      <th>TechSupport</th>\n",
       "      <th>StreamingTV</th>\n",
       "      <th>StreamingMovies</th>\n",
       "      <th>Contract</th>\n",
       "      <th>PaperlessBilling</th>\n",
       "      <th>PaymentMethod</th>\n",
       "      <th>MonthlyCharges</th>\n",
       "      <th>TotalCharges</th>\n",
       "      <th>Churn</th>\n",
       "    </tr>\n",
       "  </thead>\n",
       "  <tbody>\n",
       "    <tr>\n",
       "      <th>0</th>\n",
       "      <td>7590-VHVEG</td>\n",
       "      <td>Female</td>\n",
       "      <td>0</td>\n",
       "      <td>Yes</td>\n",
       "      <td>No</td>\n",
       "      <td>1</td>\n",
       "      <td>No</td>\n",
       "      <td>No phone service</td>\n",
       "      <td>DSL</td>\n",
       "      <td>No</td>\n",
       "      <td>...</td>\n",
       "      <td>No</td>\n",
       "      <td>No</td>\n",
       "      <td>No</td>\n",
       "      <td>No</td>\n",
       "      <td>Month-to-month</td>\n",
       "      <td>Yes</td>\n",
       "      <td>Electronic check</td>\n",
       "      <td>29.85</td>\n",
       "      <td>29.85</td>\n",
       "      <td>No</td>\n",
       "    </tr>\n",
       "    <tr>\n",
       "      <th>1</th>\n",
       "      <td>5575-GNVDE</td>\n",
       "      <td>Male</td>\n",
       "      <td>0</td>\n",
       "      <td>No</td>\n",
       "      <td>No</td>\n",
       "      <td>34</td>\n",
       "      <td>Yes</td>\n",
       "      <td>No</td>\n",
       "      <td>DSL</td>\n",
       "      <td>Yes</td>\n",
       "      <td>...</td>\n",
       "      <td>Yes</td>\n",
       "      <td>No</td>\n",
       "      <td>No</td>\n",
       "      <td>No</td>\n",
       "      <td>One year</td>\n",
       "      <td>No</td>\n",
       "      <td>Mailed check</td>\n",
       "      <td>56.95</td>\n",
       "      <td>1889.5</td>\n",
       "      <td>No</td>\n",
       "    </tr>\n",
       "    <tr>\n",
       "      <th>2</th>\n",
       "      <td>3668-QPYBK</td>\n",
       "      <td>Male</td>\n",
       "      <td>0</td>\n",
       "      <td>No</td>\n",
       "      <td>No</td>\n",
       "      <td>2</td>\n",
       "      <td>Yes</td>\n",
       "      <td>No</td>\n",
       "      <td>DSL</td>\n",
       "      <td>Yes</td>\n",
       "      <td>...</td>\n",
       "      <td>No</td>\n",
       "      <td>No</td>\n",
       "      <td>No</td>\n",
       "      <td>No</td>\n",
       "      <td>Month-to-month</td>\n",
       "      <td>Yes</td>\n",
       "      <td>Mailed check</td>\n",
       "      <td>53.85</td>\n",
       "      <td>108.15</td>\n",
       "      <td>Yes</td>\n",
       "    </tr>\n",
       "    <tr>\n",
       "      <th>3</th>\n",
       "      <td>7795-CFOCW</td>\n",
       "      <td>Male</td>\n",
       "      <td>0</td>\n",
       "      <td>No</td>\n",
       "      <td>No</td>\n",
       "      <td>45</td>\n",
       "      <td>No</td>\n",
       "      <td>No phone service</td>\n",
       "      <td>DSL</td>\n",
       "      <td>Yes</td>\n",
       "      <td>...</td>\n",
       "      <td>Yes</td>\n",
       "      <td>Yes</td>\n",
       "      <td>No</td>\n",
       "      <td>No</td>\n",
       "      <td>One year</td>\n",
       "      <td>No</td>\n",
       "      <td>Bank transfer (automatic)</td>\n",
       "      <td>42.30</td>\n",
       "      <td>1840.75</td>\n",
       "      <td>No</td>\n",
       "    </tr>\n",
       "    <tr>\n",
       "      <th>4</th>\n",
       "      <td>9237-HQITU</td>\n",
       "      <td>Female</td>\n",
       "      <td>0</td>\n",
       "      <td>No</td>\n",
       "      <td>No</td>\n",
       "      <td>2</td>\n",
       "      <td>Yes</td>\n",
       "      <td>No</td>\n",
       "      <td>Fiber optic</td>\n",
       "      <td>No</td>\n",
       "      <td>...</td>\n",
       "      <td>No</td>\n",
       "      <td>No</td>\n",
       "      <td>No</td>\n",
       "      <td>No</td>\n",
       "      <td>Month-to-month</td>\n",
       "      <td>Yes</td>\n",
       "      <td>Electronic check</td>\n",
       "      <td>70.70</td>\n",
       "      <td>151.65</td>\n",
       "      <td>Yes</td>\n",
       "    </tr>\n",
       "  </tbody>\n",
       "</table>\n",
       "<p>5 rows × 21 columns</p>\n",
       "</div>"
      ],
      "text/plain": [
       "   customerID  gender  SeniorCitizen Partner Dependents  tenure PhoneService  \\\n",
       "0  7590-VHVEG  Female              0     Yes         No       1           No   \n",
       "1  5575-GNVDE    Male              0      No         No      34          Yes   \n",
       "2  3668-QPYBK    Male              0      No         No       2          Yes   \n",
       "3  7795-CFOCW    Male              0      No         No      45           No   \n",
       "4  9237-HQITU  Female              0      No         No       2          Yes   \n",
       "\n",
       "      MultipleLines InternetService OnlineSecurity  ... DeviceProtection  \\\n",
       "0  No phone service             DSL             No  ...               No   \n",
       "1                No             DSL            Yes  ...              Yes   \n",
       "2                No             DSL            Yes  ...               No   \n",
       "3  No phone service             DSL            Yes  ...              Yes   \n",
       "4                No     Fiber optic             No  ...               No   \n",
       "\n",
       "  TechSupport StreamingTV StreamingMovies        Contract PaperlessBilling  \\\n",
       "0          No          No              No  Month-to-month              Yes   \n",
       "1          No          No              No        One year               No   \n",
       "2          No          No              No  Month-to-month              Yes   \n",
       "3         Yes          No              No        One year               No   \n",
       "4          No          No              No  Month-to-month              Yes   \n",
       "\n",
       "               PaymentMethod MonthlyCharges  TotalCharges Churn  \n",
       "0           Electronic check          29.85         29.85    No  \n",
       "1               Mailed check          56.95        1889.5    No  \n",
       "2               Mailed check          53.85        108.15   Yes  \n",
       "3  Bank transfer (automatic)          42.30       1840.75    No  \n",
       "4           Electronic check          70.70        151.65   Yes  \n",
       "\n",
       "[5 rows x 21 columns]"
      ]
     },
     "execution_count": 15,
     "metadata": {},
     "output_type": "execute_result"
    }
   ],
   "source": [
    "# Cell 2: Load raw dataset\n",
    "df = pd.read_csv(RAW_PATH)\n",
    "print(\"Shape:\", df.shape)\n",
    "df.head()\n"
   ]
  },
  {
   "cell_type": "markdown",
   "id": "1f121214-415b-4d64-ad39-646d076a37e8",
   "metadata": {},
   "source": [
    "## Step 2 – Check Missing Values\n"
   ]
  },
  {
   "cell_type": "code",
   "execution_count": 18,
   "id": "be98e1ac-b7ac-4179-bb57-adcabc195467",
   "metadata": {},
   "outputs": [
    {
     "data": {
      "text/plain": [
       "customerID          0\n",
       "gender              0\n",
       "SeniorCitizen       0\n",
       "Partner             0\n",
       "Dependents          0\n",
       "tenure              0\n",
       "PhoneService        0\n",
       "MultipleLines       0\n",
       "InternetService     0\n",
       "OnlineSecurity      0\n",
       "OnlineBackup        0\n",
       "DeviceProtection    0\n",
       "TechSupport         0\n",
       "StreamingTV         0\n",
       "StreamingMovies     0\n",
       "Contract            0\n",
       "PaperlessBilling    0\n",
       "PaymentMethod       0\n",
       "MonthlyCharges      0\n",
       "TotalCharges        0\n",
       "Churn               0\n",
       "dtype: int64"
      ]
     },
     "execution_count": 18,
     "metadata": {},
     "output_type": "execute_result"
    }
   ],
   "source": [
    "\n",
    "df.isnull().sum()\n"
   ]
  },
  {
   "cell_type": "markdown",
   "id": "9487047c-6b65-4ce0-ae8a-d31503759b9d",
   "metadata": {},
   "source": [
    "## Step 3 – Clean Column Names\n",
    "Make all columns lowercase and replace spaces with underscores.\n"
   ]
  },
  {
   "cell_type": "code",
   "execution_count": 21,
   "id": "e1fdf3e6-0e8e-433f-a507-89efe938b5da",
   "metadata": {},
   "outputs": [
    {
     "name": "stdout",
     "output_type": "stream",
     "text": [
      "['customerid', 'gender', 'seniorcitizen', 'partner', 'dependents', 'tenure', 'phoneservice', 'multiplelines', 'internetservice', 'onlinesecurity', 'onlinebackup', 'deviceprotection', 'techsupport', 'streamingtv', 'streamingmovies', 'contract', 'paperlessbilling', 'paymentmethod', 'monthlycharges', 'totalcharges', 'churn']\n"
     ]
    }
   ],
   "source": [
    "\n",
    "df.columns = df.columns.str.strip().str.lower().str.replace(\" \", \"_\")\n",
    "print(df.columns.tolist())\n"
   ]
  },
  {
   "cell_type": "markdown",
   "id": "e4e9352e-926a-468f-bda7-d6f3fce805af",
   "metadata": {},
   "source": [
    "## Step 4 – Clean Target Column (Churn)\n",
    "- Convert to lowercase  \n",
    "- Map Yes → 1, No → 0  \n"
   ]
  },
  {
   "cell_type": "code",
   "execution_count": 24,
   "id": "3caa4787-9576-4565-a568-f1867e5ad909",
   "metadata": {},
   "outputs": [
    {
     "name": "stdout",
     "output_type": "stream",
     "text": [
      "Unique values in churn: [0 1]\n"
     ]
    }
   ],
   "source": [
    "# \n",
    "if \"churn\" in df.columns:\n",
    "    df[\"churn\"] = df[\"churn\"].astype(str).str.strip().str.lower()\n",
    "    df[\"churn\"] = df[\"churn\"].map({\"yes\": 1, \"no\": 0, \"1\": 1, \"0\": 0})\n",
    "\n",
    "# Drop rows with missing churn info\n",
    "df = df.dropna(subset=[\"churn\"])\n",
    "\n",
    "print(\"Unique values in churn:\", df[\"churn\"].unique())\n"
   ]
  },
  {
   "cell_type": "markdown",
   "id": "31568e49-ca6a-4f8a-b330-2dba94065894",
   "metadata": {},
   "source": [
    "## Step 5 – Handle Other Missing Values\n",
    "- For numeric: fill with median  \n",
    "- For categorical: fill with \"Unknown\"  \n"
   ]
  },
  {
   "cell_type": "code",
   "execution_count": 27,
   "id": "c4d3fcdc-85e1-490b-9300-a1e55dfa6b32",
   "metadata": {},
   "outputs": [],
   "source": [
    "#  Fill missing values\n",
    "for col in df.columns:\n",
    "    if df[col].dtype in [\"int64\", \"float64\"]:\n",
    "        df[col] = df[col].fillna(df[col].median())\n",
    "    else:\n",
    "        df[col] = df[col].fillna(\"Unknown\")\n"
   ]
  },
  {
   "cell_type": "markdown",
   "id": "754c9f3a-30ac-43a0-8b7d-b3d2382b3767",
   "metadata": {},
   "source": [
    "## Step 6 – Save Cleaned Dataset\n"
   ]
  },
  {
   "cell_type": "code",
   "execution_count": 32,
   "id": "9fa4b3b0-cf59-49e8-bbac-a0d8db169cd1",
   "metadata": {},
   "outputs": [
    {
     "name": "stdout",
     "output_type": "stream",
     "text": [
      "✅ Cleaned dataset saved at: ../data/cleaned/Telco-Customer-Churn.csv\n"
     ]
    }
   ],
   "source": [
    "# \n",
    "df.to_csv(CLEAN_PATH, index=False)\n",
    "print(\"✅ Cleaned dataset saved at:\", CLEAN_PATH)\n"
   ]
  },
  {
   "cell_type": "markdown",
   "id": "2b9d81b7-d842-4315-93b0-50cea5249fff",
   "metadata": {},
   "source": [
    "## Step 7 – Exploratory Data Analysis (EDA)\n",
    "### 1. Churn Distribution\n"
   ]
  },
  {
   "cell_type": "code",
   "execution_count": 37,
   "id": "976d9627-2414-4610-87f2-2bf957d4c758",
   "metadata": {},
   "outputs": [
    {
     "data": {
      "image/png": "[encoded data removed]",
      "text/plain": [
       "<Figure size 640x480 with 1 Axes>"
      ]
     },
     "metadata": {},
     "output_type": "display_data"
    }
   ],
   "source": [
    "\n",
    "sns.countplot(x=\"churn\", data=df)\n",
    "plt.title(\"Churn Distribution\")\n",
    "plt.savefig(os.path.join(ANALYSIS_PATH, \"churn_distribution.png\"))\n",
    "plt.show()\n"
   ]
  },
  {
   "cell_type": "markdown",
   "id": "0a8ef63b-0cdf-4464-896f-b1882b87c246",
   "metadata": {},
   "source": [
    "### 2 Churn rate"
   ]
  },
  {
   "cell_type": "code",
   "execution_count": 39,
   "id": "c35354b5-af6b-4b11-b97f-341371266835",
   "metadata": {},
   "outputs": [
    {
     "name": "stdout",
     "output_type": "stream",
     "text": [
      "Churn Rate: 26.54%\n"
     ]
    }
   ],
   "source": [
    "\n",
    "churn_rate = df[\"churn\"].mean()\n",
    "print(f\"Churn Rate: {churn_rate:.2%}\")\n"
   ]
  },
  {
   "cell_type": "markdown",
   "id": "cce8b9e8-1a4f-4e3c-98c6-ec2fff66e6f9",
   "metadata": {},
   "source": [
    "### 3. Numerical Features – Distribution by Churn\n"
   ]
  },
  {
   "cell_type": "code",
   "execution_count": 48,
   "id": "851476e9-56c8-4158-beb8-8a8166beb576",
   "metadata": {},
   "outputs": [],
   "source": [
    "\n",
    "num_cols = df.select_dtypes(include=[\"int64\", \"float64\"]).columns\n",
    "\n",
    "for col in num_cols:\n",
    "    plt.figure(figsize=(6,4))\n",
    "    sns.histplot(data=df, x=col, hue=\"churn\", multiple=\"stack\", bins=30)\n",
    "    plt.title(f\"{col} distribution by churn\")\n",
    "    plt.savefig(os.path.join(ANALYSIS_PATH, f\"{col}_distribution.png\"))\n",
    "    plt.close()\n"
   ]
  },
  {
   "cell_type": "markdown",
   "id": "f0851afa-7ba6-43a5-8756-bf9e78e21a6c",
   "metadata": {},
   "source": [
    "# ✅ Phase 2 Completed\n",
    "- Dataset cleaned and saved  \n",
    "- Target (`Churn`) converted to 0/1  \n",
    "- Missing values handled  \n",
    "- Basic EDA done (churn rate, distributions)  \n"
   ]
  },
  {
   "cell_type": "code",
   "execution_count": null,
   "id": "8bac5fa0-c6cc-40be-a036-42c9b71503b4",
   "metadata": {},
   "outputs": [],
   "source": []
  }
 ],
 "metadata": {
  "kernelspec": {
   "display_name": "Python [conda env:base] *",
   "language": "python",
   "name": "conda-base-py"
  },
  "language_info": {
   "codemirror_mode": {
    "name": "ipython",
    "version": 3
   },
   "file_extension": ".py",
   "mimetype": "text/x-python",
   "name": "python",
   "nbconvert_exporter": "python",
   "pygments_lexer": "ipython3",
   "version": "3.12.7"
  }
 },
 "nbformat": 4,
 "nbformat_minor": 5
}
